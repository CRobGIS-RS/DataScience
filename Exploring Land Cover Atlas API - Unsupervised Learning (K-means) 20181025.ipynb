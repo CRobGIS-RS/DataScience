{
 "cells": [
  {
   "cell_type": "markdown",
   "metadata": {},
   "source": [
    "## Import Python Libraries"
   ]
  },
  {
   "cell_type": "code",
   "execution_count": 1,
   "metadata": {},
   "outputs": [],
   "source": [
    "import os\n",
    "import pandas as pd\n",
    "from sklearn.cluster import KMeans\n",
    "from sklearn import preprocessing, metrics\n",
    "import geopandas as gpd\n",
    "import fiona\n",
    "import requests\n",
    "import zipfile\n",
    "import io\n",
    "\n",
    "%matplotlib inline\n",
    "from matplotlib import pyplot as plt"
   ]
  },
  {
   "cell_type": "markdown",
   "metadata": {},
   "source": [
    "## Bring in the Data\n"
   ]
  },
  {
   "cell_type": "markdown",
   "metadata": {},
   "source": [
    "### Download a shapefile of county boundaries from Census for the US and load it into a GeoPandas DataFrame"
   ]
  },
  {
   "cell_type": "code",
   "execution_count": 2,
   "metadata": {},
   "outputs": [],
   "source": [
    "def download_shapefile(directory):\n",
    "    \"\"\"\n",
    "    Download county boundaries from census.gov ftp site. Unzips file and loads it into a geoPandas dataframe\n",
    "    \n",
    "    \"\"\"          \n",
    "    map_url = \"https://www2.census.gov/geo/tiger/TIGER2017/COUNTY/tl_2017_us_county.zip\"\n",
    "    #print('Downloading shapefile...')\n",
    "        \n",
    "    # Split on the rightmost / and take everything on the right side of that\n",
    "    name = map_url.rsplit('/', 1)[-1]\n",
    "    \n",
    "    # Remove newline characters from URL\n",
    "    filename = name.replace(\"\\n\", \"\")\n",
    "        \n",
    "    file_zip = os.path.join(directory,filename)\n",
    "    \n",
    "    r = requests.get(map_url)\n",
    "    with open(file_zip, \"wb\") as code:\n",
    "        code.write(r.content)\n",
    "    \n",
    "    z=zipfile.ZipFile(file_zip).extractall(directory)\n",
    "        \n",
    "    nation_file_shp = file_zip.replace(\".zip\",\".shp\")\n",
    "        \n",
    "    # Read into geoPandas Dataframe   \n",
    "    nation = gpd.read_file(nation_file_shp)\n",
    "    \n",
    "    return nation"
   ]
  },
  {
   "cell_type": "code",
   "execution_count": 3,
   "metadata": {},
   "outputs": [],
   "source": [
    "us_counties = download_shapefile(\"C:\\\\Projects\\\\junk\\\\Florida\")"
   ]
  },
  {
   "cell_type": "markdown",
   "metadata": {},
   "source": [
    "## Select State of interest for analysis to using FIPS codes to make a new GeoDataFrame"
   ]
  },
  {
   "cell_type": "code",
   "execution_count": 6,
   "metadata": {},
   "outputs": [],
   "source": [
    "def select_state(fips, nation):\n",
    "    \"\"\"\n",
    "    Creates new GeoDataFrame based on FIPS code\n",
    "    \n",
    "    fips:the 2-digit FIPS code for your state you of interest\n",
    "    nation: GeoDataFrame of census counties\n",
    "    \"\"\"\n",
    "    counties = nation.loc[nation['STATEFP'] == '{0}'.format(fips)].squeeze() \n",
    "    counties = counties.rename(columns={'GEOID': 'geoId'})\n",
    "    \n",
    "    #return counties\n",
    "    return counties"
   ]
  },
  {
   "cell_type": "code",
   "execution_count": 7,
   "metadata": {},
   "outputs": [],
   "source": [
    "counties_gdf = select_state(12, us_counties)"
   ]
  },
  {
   "cell_type": "code",
   "execution_count": 9,
   "metadata": {},
   "outputs": [
    {
     "data": {
      "text/plain": [
       "<matplotlib.axes._subplots.AxesSubplot at 0x29bfda81630>"
      ]
     },
     "execution_count": 9,
     "metadata": {},
     "output_type": "execute_result"
    },
    {
     "data": {
      "image/png": "[encoded data removed]",
      "text/plain": [
       "<Figure size 432x288 with 1 Axes>"
      ]
     },
     "metadata": {},
     "output_type": "display_data"
    }
   ],
   "source": [
    "counties_gdf.plot()"
   ]
  },
  {
   "cell_type": "markdown",
   "metadata": {},
   "source": [
    "### Use request.get to load data requested from API into a Response object. Use Requests builtin JSON decoder to read JSON data and load it into a Pandas dataframe."
   ]
  },
  {
   "cell_type": "code",
   "execution_count": 10,
   "metadata": {},
   "outputs": [],
   "source": [
    "def create_dataframe(fips,early_year,late_year):\n",
    "    \"\"\"\n",
    "    Submits request for data to the API and creates formatted pandas dataframe for use with clustering algorithms\n",
    "    \n",
    "    fips = string defining the 2-digit FIPS code for your state you of interest\n",
    "    early_year = string defining the 1st date of change period (1996, 2001, 2006 or 2010)\n",
    "    late_year = string defining the 2nd date of change period (1996, 2001, 2006 or 2010)\n",
    "    \"\"\"\n",
    "    # Format inputs for url\n",
    "    fips = \"'{}'\".format(fips)\n",
    "    early_year = \"'{}'\".format(early_year)\n",
    "    late_year = \"'{}'\".format(late_year)\n",
    "    \n",
    "    #API request for Land Cover data in JSON format\n",
    "    url = \"https://coast.noaa.gov/opendata/LandCover/api/v1/distributionOfChangeGainsLossesByLandcovers?$filter=startswith(geoId, {0}) and length(geoId) eq 5 and earlyYear eq {1} and lateYear eq {2}\".format(fips, early_year, late_year)\n",
    "    \n",
    "    r = requests.get(url, headers={'Accept': 'application/json'})\n",
    "    data = r.json()\n",
    "    lca_df = pd.DataFrame(data['value'])\n",
    "    \n",
    "    # Set index to the FIPS code and drop Early and Late Year Fields\n",
    "    lca_df_index = lca_df.set_index('geoId').drop(['earlyYear', 'lateYear'], axis=1)\n",
    "    \n",
    "    return lca_df_index\n"
   ]
  },
  {
   "cell_type": "code",
   "execution_count": 12,
   "metadata": {},
   "outputs": [],
   "source": [
    "FL_2001_2010 = create_dataframe(12,2001,2010)"
   ]
  },
  {
   "cell_type": "code",
   "execution_count": 13,
   "metadata": {},
   "outputs": [
    {
     "data": {
      "text/html": [
       "<div>\n",
       "<style scoped>\n",
       "    .dataframe tbody tr th:only-of-type {\n",
       "        vertical-align: middle;\n",
       "    }\n",
       "\n",
       "    .dataframe tbody tr th {\n",
       "        vertical-align: top;\n",
       "    }\n",
       "\n",
       "    .dataframe thead th {\n",
       "        text-align: right;\n",
       "    }\n",
       "</style>\n",
       "<table border=\"1\" class=\"dataframe\">\n",
       "  <thead>\n",
       "    <tr style=\"text-align: right;\">\n",
       "      <th></th>\n",
       "      <th>AgrAreaGain</th>\n",
       "      <th>AgrAreaLoss</th>\n",
       "      <th>BarAreaGain</th>\n",
       "      <th>BarAreaLoss</th>\n",
       "      <th>EmwAreaGain</th>\n",
       "      <th>EmwAreaLoss</th>\n",
       "      <th>ForAreaGain</th>\n",
       "      <th>ForAreaLoss</th>\n",
       "      <th>GrsAreaGain</th>\n",
       "      <th>GrsAreaLoss</th>\n",
       "      <th>...</th>\n",
       "      <th>LIDAreaGain</th>\n",
       "      <th>LIDAreaLoss</th>\n",
       "      <th>OSDAreaGain</th>\n",
       "      <th>OSDAreaLoss</th>\n",
       "      <th>SscbAreaGain</th>\n",
       "      <th>SscbAreaLoss</th>\n",
       "      <th>WdwAreaGain</th>\n",
       "      <th>WdwAreaLoss</th>\n",
       "      <th>WtrAreaGain</th>\n",
       "      <th>WtrAreaLoss</th>\n",
       "    </tr>\n",
       "    <tr>\n",
       "      <th>geoId</th>\n",
       "      <th></th>\n",
       "      <th></th>\n",
       "      <th></th>\n",
       "      <th></th>\n",
       "      <th></th>\n",
       "      <th></th>\n",
       "      <th></th>\n",
       "      <th></th>\n",
       "      <th></th>\n",
       "      <th></th>\n",
       "      <th></th>\n",
       "      <th></th>\n",
       "      <th></th>\n",
       "      <th></th>\n",
       "      <th></th>\n",
       "      <th></th>\n",
       "      <th></th>\n",
       "      <th></th>\n",
       "      <th></th>\n",
       "      <th></th>\n",
       "      <th></th>\n",
       "    </tr>\n",
       "  </thead>\n",
       "  <tbody>\n",
       "    <tr>\n",
       "      <th>12001</th>\n",
       "      <td>0.80</td>\n",
       "      <td>-11.10</td>\n",
       "      <td>1.13</td>\n",
       "      <td>-0.40</td>\n",
       "      <td>5.05</td>\n",
       "      <td>-5.03</td>\n",
       "      <td>36.34</td>\n",
       "      <td>-43.42</td>\n",
       "      <td>27.53</td>\n",
       "      <td>-19.90</td>\n",
       "      <td>...</td>\n",
       "      <td>2.98</td>\n",
       "      <td>-0.11</td>\n",
       "      <td>2.59</td>\n",
       "      <td>-0.52</td>\n",
       "      <td>30.35</td>\n",
       "      <td>-29.37</td>\n",
       "      <td>4.70</td>\n",
       "      <td>-4.63</td>\n",
       "      <td>1.35</td>\n",
       "      <td>-0.64</td>\n",
       "    </tr>\n",
       "    <tr>\n",
       "      <th>12003</th>\n",
       "      <td>0.00</td>\n",
       "      <td>-0.46</td>\n",
       "      <td>0.99</td>\n",
       "      <td>-0.18</td>\n",
       "      <td>5.06</td>\n",
       "      <td>-1.41</td>\n",
       "      <td>32.86</td>\n",
       "      <td>-51.60</td>\n",
       "      <td>26.59</td>\n",
       "      <td>-26.34</td>\n",
       "      <td>...</td>\n",
       "      <td>0.47</td>\n",
       "      <td>-0.03</td>\n",
       "      <td>0.28</td>\n",
       "      <td>-0.07</td>\n",
       "      <td>39.12</td>\n",
       "      <td>-22.13</td>\n",
       "      <td>1.40</td>\n",
       "      <td>-5.16</td>\n",
       "      <td>0.30</td>\n",
       "      <td>-0.14</td>\n",
       "    </tr>\n",
       "    <tr>\n",
       "      <th>12005</th>\n",
       "      <td>1.41</td>\n",
       "      <td>-2.11</td>\n",
       "      <td>3.79</td>\n",
       "      <td>-3.32</td>\n",
       "      <td>6.24</td>\n",
       "      <td>-6.29</td>\n",
       "      <td>14.16</td>\n",
       "      <td>-45.35</td>\n",
       "      <td>18.26</td>\n",
       "      <td>-20.57</td>\n",
       "      <td>...</td>\n",
       "      <td>2.14</td>\n",
       "      <td>-0.31</td>\n",
       "      <td>2.28</td>\n",
       "      <td>-0.54</td>\n",
       "      <td>46.29</td>\n",
       "      <td>-18.31</td>\n",
       "      <td>8.65</td>\n",
       "      <td>-8.44</td>\n",
       "      <td>0.52</td>\n",
       "      <td>-1.05</td>\n",
       "    </tr>\n",
       "    <tr>\n",
       "      <th>12007</th>\n",
       "      <td>0.08</td>\n",
       "      <td>-1.39</td>\n",
       "      <td>0.51</td>\n",
       "      <td>-0.41</td>\n",
       "      <td>3.30</td>\n",
       "      <td>-1.70</td>\n",
       "      <td>20.31</td>\n",
       "      <td>-24.41</td>\n",
       "      <td>15.33</td>\n",
       "      <td>-10.91</td>\n",
       "      <td>...</td>\n",
       "      <td>0.14</td>\n",
       "      <td>-0.01</td>\n",
       "      <td>0.11</td>\n",
       "      <td>-0.02</td>\n",
       "      <td>16.07</td>\n",
       "      <td>-15.54</td>\n",
       "      <td>1.62</td>\n",
       "      <td>-3.32</td>\n",
       "      <td>0.25</td>\n",
       "      <td>-0.08</td>\n",
       "    </tr>\n",
       "    <tr>\n",
       "      <th>12009</th>\n",
       "      <td>0.33</td>\n",
       "      <td>-6.48</td>\n",
       "      <td>1.44</td>\n",
       "      <td>-0.16</td>\n",
       "      <td>9.13</td>\n",
       "      <td>-8.06</td>\n",
       "      <td>1.83</td>\n",
       "      <td>-0.41</td>\n",
       "      <td>1.20</td>\n",
       "      <td>-1.65</td>\n",
       "      <td>...</td>\n",
       "      <td>5.90</td>\n",
       "      <td>-0.45</td>\n",
       "      <td>4.57</td>\n",
       "      <td>-1.54</td>\n",
       "      <td>7.22</td>\n",
       "      <td>-1.36</td>\n",
       "      <td>1.44</td>\n",
       "      <td>-26.43</td>\n",
       "      <td>7.71</td>\n",
       "      <td>-0.84</td>\n",
       "    </tr>\n",
       "  </tbody>\n",
       "</table>\n",
       "<p>5 rows × 22 columns</p>\n",
       "</div>"
      ],
      "text/plain": [
       "       AgrAreaGain  AgrAreaLoss  BarAreaGain  BarAreaLoss  EmwAreaGain  \\\n",
       "geoId                                                                    \n",
       "12001         0.80       -11.10         1.13        -0.40         5.05   \n",
       "12003         0.00        -0.46         0.99        -0.18         5.06   \n",
       "12005         1.41        -2.11         3.79        -3.32         6.24   \n",
       "12007         0.08        -1.39         0.51        -0.41         3.30   \n",
       "12009         0.33        -6.48         1.44        -0.16         9.13   \n",
       "\n",
       "       EmwAreaLoss  ForAreaGain  ForAreaLoss  GrsAreaGain  GrsAreaLoss  \\\n",
       "geoId                                                                    \n",
       "12001        -5.03        36.34       -43.42        27.53       -19.90   \n",
       "12003        -1.41        32.86       -51.60        26.59       -26.34   \n",
       "12005        -6.29        14.16       -45.35        18.26       -20.57   \n",
       "12007        -1.70        20.31       -24.41        15.33       -10.91   \n",
       "12009        -8.06         1.83        -0.41         1.20        -1.65   \n",
       "\n",
       "          ...       LIDAreaGain  LIDAreaLoss  OSDAreaGain  OSDAreaLoss  \\\n",
       "geoId     ...                                                            \n",
       "12001     ...              2.98        -0.11         2.59        -0.52   \n",
       "12003     ...              0.47        -0.03         0.28        -0.07   \n",
       "12005     ...              2.14        -0.31         2.28        -0.54   \n",
       "12007     ...              0.14        -0.01         0.11        -0.02   \n",
       "12009     ...              5.90        -0.45         4.57        -1.54   \n",
       "\n",
       "       SscbAreaGain  SscbAreaLoss  WdwAreaGain  WdwAreaLoss  WtrAreaGain  \\\n",
       "geoId                                                                      \n",
       "12001         30.35        -29.37         4.70        -4.63         1.35   \n",
       "12003         39.12        -22.13         1.40        -5.16         0.30   \n",
       "12005         46.29        -18.31         8.65        -8.44         0.52   \n",
       "12007         16.07        -15.54         1.62        -3.32         0.25   \n",
       "12009          7.22         -1.36         1.44       -26.43         7.71   \n",
       "\n",
       "       WtrAreaLoss  \n",
       "geoId               \n",
       "12001        -0.64  \n",
       "12003        -0.14  \n",
       "12005        -1.05  \n",
       "12007        -0.08  \n",
       "12009        -0.84  \n",
       "\n",
       "[5 rows x 22 columns]"
      ]
     },
     "execution_count": 13,
     "metadata": {},
     "output_type": "execute_result"
    }
   ],
   "source": [
    "FL_2001_2010.head()"
   ]
  },
  {
   "cell_type": "markdown",
   "metadata": {},
   "source": [
    "### Create Pandas DataFrame with County Names and Fips Codes from GeoPandas DataFrame"
   ]
  },
  {
   "cell_type": "code",
   "execution_count": 14,
   "metadata": {},
   "outputs": [],
   "source": [
    "def create_fips_table(dataframe):\n",
    "    \"\"\"\n",
    "    Creates table of FIPS codes and county names for joining to Land Cover DataFrame\n",
    "    \n",
    "    dataframe: Geopandas dataframe of State of interest\n",
    "    \n",
    "    \"\"\"\n",
    "    \n",
    "    county_attributes = pd.DataFrame(dataframe)\n",
    "    fips_names = county_attributes[['geoId','NAMELSAD']]\n",
    "    fips_names.columns = ['geoId','name']\n",
    "    \n",
    "    return fips_names"
   ]
  },
  {
   "cell_type": "code",
   "execution_count": 15,
   "metadata": {},
   "outputs": [],
   "source": [
    "fips_df = create_fips_table(counties_gdf)"
   ]
  },
  {
   "cell_type": "markdown",
   "metadata": {},
   "source": [
    "### Perform K-means Cluster Analysis"
   ]
  },
  {
   "cell_type": "code",
   "execution_count": 18,
   "metadata": {},
   "outputs": [],
   "source": [
    "def kmeans_cluster(dataframe, min_cluster, max_cluster):\n",
    "    \"\"\"\n",
    "    Runs a user-defined range of k-means clusters and plots iniertia to help user determine optimal number of clusters\n",
    "    \n",
    "    dataframe: Name of pandas dataframe being used for cluster analysis\n",
    "    min_cluster: Minimum number of clusters\n",
    "    max_cluster: Maximum number of clusters\n",
    "    \n",
    "    \"\"\"\n",
    "    clusters = range(min_cluster, max_cluster)\n",
    "    inertias = []\n",
    "    \n",
    "    for k in clusters:\n",
    "        # Create a KMeans instance with k clusters: model\n",
    "        model = KMeans(n_clusters=k)\n",
    "    \n",
    "        # Fit model to samples\n",
    "        model.fit(dataframe)\n",
    "         \n",
    "        # Append the inertia to the list of inertias\n",
    "        inertias.append(model.inertia_)\n",
    "        \n",
    "    # Plot inertias\n",
    "    plt.plot(inertias, '-o')\n",
    "    plt.xlabel('number of clusters, k')\n",
    "    plt.ylabel('inertia')\n",
    "    plt.xticks(clusters)\n",
    "    plt.show()\n",
    "    \n",
    "    "
   ]
  },
  {
   "cell_type": "code",
   "execution_count": 19,
   "metadata": {},
   "outputs": [
    {
     "data": {
      "image/png": "[encoded data removed]",
      "text/plain": [
       "<Figure size 432x288 with 1 Axes>"
      ]
     },
     "metadata": {},
     "output_type": "display_data"
    }
   ],
   "source": [
    "fl_clusters = kmeans_cluster(FL_2001_2010,1,15)"
   ]
  },
  {
   "cell_type": "code",
   "execution_count": 20,
   "metadata": {},
   "outputs": [],
   "source": [
    "def kmeans_optimal(dataframe,n_clusters):\n",
    "    \"\"\"\n",
    "    Runs a k-means cluster analysis and returns labels based on the optimal number of clusters\n",
    "    \n",
    "    dataframe: Name of pandas dataframe being used for cluster analysis\n",
    "    n_cluster: Number of clusters\n",
    "       \n",
    "    \"\"\"\n",
    "    # Create a KMeans instance with X # of clusters: model\n",
    "    model = KMeans(n_clusters)\n",
    "\n",
    "    # Fit model to points\n",
    "    model.fit(dataframe)\n",
    "\n",
    "    # Determine the cluster labels of new_points: labels\n",
    "    labels = model.predict(dataframe)\n",
    "    \n",
    "    # Print cluster labels of new_points\n",
    "    print(labels)\n",
    "    print('Inertia:', model.inertia_)\n",
    "    print ('Silhouette Score:', metrics.silhouette_score(dataframe, labels, metric='euclidean'))\n",
    "    \n",
    "    return labels"
   ]
  },
  {
   "cell_type": "code",
   "execution_count": 21,
   "metadata": {},
   "outputs": [
    {
     "name": "stdout",
     "output_type": "stream",
     "text": [
      "[4 4 4 1 0 0 4 0 0 1 0 4 0 4 1 4 1 0 1 1 0 1 4 0 0 0 0 3 1 0 4 1 4 3 3 1 4\n",
      " 1 4 3 4 0 0 0 4 4 0 3 3 3 0 0 3 1 1 0 2 0 0 0 4 2 1 1 0 2 1]\n",
      "Inertia: 31322.674120833333\n",
      "Silhouette Score: 0.38030883315696073\n"
     ]
    }
   ],
   "source": [
    "optimal_cluster = kmeans_optimal(FL_2001_2010, 5)"
   ]
  },
  {
   "cell_type": "code",
   "execution_count": 22,
   "metadata": {},
   "outputs": [],
   "source": [
    "def map_clusters(labels,dataframe):\n",
    "    \"\"\"\n",
    "    Takes labels from k-means clustering and joins them to Geopandas DataFrame\n",
    "    \n",
    "    lables: labels from k-means clustering\n",
    "    dataframe: Name of pandas dataframe being used for cluster analysis\n",
    "    \"\"\"\n",
    "    labels_dict = {'label':labels}\n",
    "    labels_df = pd.DataFrame(labels_dict, index=dataframe.index)\n",
    "\n",
    "    counties_cluster=counties_gdf.join(labels_df, on='geoId')\n",
    "    \n",
    "    cluster_plot = counties_cluster.plot(figsize=(15, 15), column='label', legend=True)\n",
    "    cluster_plot.set_axis_off()\n",
    "    \n",
    "    return counties_cluster\n",
    "       "
   ]
  },
  {
   "cell_type": "code",
   "execution_count": 23,
   "metadata": {},
   "outputs": [
    {
     "data": {
      "image/png": "[encoded data removed]",
      "text/plain": [
       "<Figure size 1080x1080 with 2 Axes>"
      ]
     },
     "metadata": {},
     "output_type": "display_data"
    }
   ],
   "source": [
    "cluster_map = map_clusters(optimal_cluster,FL_2001_2010)"
   ]
  },
  {
   "cell_type": "code",
   "execution_count": null,
   "metadata": {},
   "outputs": [],
   "source": []
  }
 ],
 "metadata": {
  "kernelspec": {
   "display_name": "Python 3",
   "language": "python",
   "name": "python3"
  },
  "language_info": {
   "codemirror_mode": {
    "name": "ipython",
    "version": 3
   },
   "file_extension": ".py",
   "mimetype": "text/x-python",
   "name": "python",
   "nbconvert_exporter": "python",
   "pygments_lexer": "ipython3",
   "version": "3.5.5"
  }
 },
 "nbformat": 4,
 "nbformat_minor": 2
}
